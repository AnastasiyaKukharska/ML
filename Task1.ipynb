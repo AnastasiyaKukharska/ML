{
 "cells": [
  {
   "cell_type": "code",
   "execution_count": 32,
   "metadata": {},
   "outputs": [
    {
     "name": "stdout",
     "output_type": "stream",
     "text": [
      "Time with numpy package: 0.16777825355529785\n",
      "[[23.52971871 26.16396305 25.50298041 ... 26.44114008 25.4929349\n",
      "  28.42162986]\n",
      " [23.17687539 27.925278   25.6337183  ... 25.69597081 27.68845449\n",
      "  30.0235006 ]\n",
      " [24.40086296 28.17067775 25.77346156 ... 27.62083453 27.64778773\n",
      "  31.86646677]\n",
      " ...\n",
      " [21.76152685 26.30409681 24.43736651 ... 24.95334145 25.6914724\n",
      "  28.05562089]\n",
      " [21.28952852 24.25936087 25.42270439 ... 25.09622255 26.3614134\n",
      "  27.63792456]\n",
      " [25.55052443 28.35703476 27.9074318  ... 27.48509793 27.80776314\n",
      "  31.63834703]]\n"
     ]
    }
   ],
   "source": [
    "import numpy as np\n",
    "import time\n",
    "start = time.time()\n",
    "m1 = np.random.random((100,100));\n",
    "m2=np.random.random((100,100));\n",
    "result1= np.dot(m1,m2) \n",
    "end = time.time()\n",
    "print(\"Time with numpy package:\",end - start)\n",
    "print (result1)\n"
   ]
  },
  {
   "cell_type": "code",
   "execution_count": 33,
   "metadata": {},
   "outputs": [],
   "source": [
    "def Fmultiply(x,y):\n",
    "    result = np.zeros((100,100))\n",
    "    for i in range(len(x)):\n",
    "        for j in range(len(y[0])):\n",
    "            for k in range(len(y)):\n",
    "                result[i][j] += x[i][k] * y[k][j]\n",
    "    return result\n"
   ]
  },
  {
   "cell_type": "code",
   "execution_count": 35,
   "metadata": {},
   "outputs": [
    {
     "name": "stdout",
     "output_type": "stream",
     "text": [
      "Time with own function: 1.9308419227600098\n",
      "[[23.52971871 26.16396305 25.50298041 ... 26.44114008 25.4929349\n",
      "  28.42162986]\n",
      " [23.17687539 27.925278   25.6337183  ... 25.69597081 27.68845449\n",
      "  30.0235006 ]\n",
      " [24.40086296 28.17067775 25.77346156 ... 27.62083453 27.64778773\n",
      "  31.86646677]\n",
      " ...\n",
      " [21.76152685 26.30409681 24.43736651 ... 24.95334145 25.6914724\n",
      "  28.05562089]\n",
      " [21.28952852 24.25936087 25.42270439 ... 25.09622255 26.3614134\n",
      "  27.63792456]\n",
      " [25.55052443 28.35703476 27.9074318  ... 27.48509793 27.80776314\n",
      "  31.63834703]]\n"
     ]
    }
   ],
   "source": [
    "start2 = time.time()\n",
    "result2= Fmultiply(m1, m2)\n",
    "end2 = time.time()\n",
    "print(\"Time with own function:\",end2 - start2)\n",
    "print (result2)"
   ]
  },
  {
   "cell_type": "code",
   "execution_count": null,
   "metadata": {},
   "outputs": [],
   "source": []
  },
  {
   "cell_type": "code",
   "execution_count": null,
   "metadata": {},
   "outputs": [],
   "source": []
  },
  {
   "cell_type": "code",
   "execution_count": null,
   "metadata": {},
   "outputs": [],
   "source": []
  }
 ],
 "metadata": {
  "kernelspec": {
   "display_name": "Python 3",
   "language": "python",
   "name": "python3"
  },
  "language_info": {
   "codemirror_mode": {
    "name": "ipython",
    "version": 3
   },
   "file_extension": ".py",
   "mimetype": "text/x-python",
   "name": "python",
   "nbconvert_exporter": "python",
   "pygments_lexer": "ipython3",
   "version": "3.8.5"
  }
 },
 "nbformat": 4,
 "nbformat_minor": 4
}
